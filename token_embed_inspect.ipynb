{
 "cells": [
  {
   "cell_type": "code",
   "execution_count": 13,
   "id": "4627a061",
   "metadata": {},
   "outputs": [],
   "source": [
    "import pandas as pd\n",
    "import torch\n",
    "from sklearn.model_selection import train_test_split\n",
    "from sklearn.metrics import classification_report, confusion_matrix\n",
    "import seaborn as sns\n",
    "import matplotlib.pyplot as plt\n",
    "from transformers import AutoTokenizer, AutoModelForSequenceClassification, pipeline\n",
    "from torch.utils.data import Dataset, DataLoader\n",
    "from tqdm.auto import tqdm\n",
    "from transformers import get_linear_schedule_with_warmup"
   ]
  },
  {
   "cell_type": "code",
   "execution_count": 14,
   "id": "b5039a0a",
   "metadata": {},
   "outputs": [
    {
     "name": "stdout",
     "output_type": "stream",
     "text": [
      "Sentence: Saya sangat senang dengan layanan BCA.\n",
      "Tokens: ['saya', 'sangat', 'senang', 'dengan', 'layanan', 'bca', '.']\n",
      "Input IDs: [209, 310, 3000, 79, 1629, 8320, 30470]\n",
      "\n",
      "Full Encoding (with special tokens [CLS] and [SEP]):\n",
      "[2, 209, 310, 3000, 79, 1629, 8320, 30470, 3, 0, 0, 0]\n"
     ]
    }
   ],
   "source": [
    "# Let's take our IndoBERT tokenizer\n",
    "bert_tokenizer = AutoTokenizer.from_pretrained('indonesia-bert-sentiment-classification')\n",
    "\n",
    "# A sample sentence\n",
    "sample_text = \"Saya sangat senang dengan layanan BCA.\"\n",
    "\n",
    "# --- Inspection Step 1: Tokenize ---\n",
    "tokens = bert_tokenizer.tokenize(sample_text)\n",
    "print(f\"Sentence: {sample_text}\")\n",
    "print(f\"Tokens: {tokens}\")\n",
    "\n",
    "# --- Inspection Step 2: Convert to IDs ---\n",
    "input_ids = bert_tokenizer.convert_tokens_to_ids(tokens)\n",
    "print(f\"Input IDs: {input_ids}\")\n",
    "\n",
    "# The encode_plus method does both steps at once and adds special tokens\n",
    "encoding = bert_tokenizer.encode_plus(sample_text, max_length=12, padding='max_length', truncation=True)\n",
    "print(f\"\\nFull Encoding (with special tokens [CLS] and [SEP]):\")\n",
    "print(encoding['input_ids'])"
   ]
  },
  {
   "cell_type": "code",
   "execution_count": 15,
   "id": "ab6efab0",
   "metadata": {},
   "outputs": [
    {
     "name": "stdout",
     "output_type": "stream",
     "text": [
      "BertForSequenceClassification(\n",
      "  (bert): BertModel(\n",
      "    (embeddings): BertEmbeddings(\n",
      "      (word_embeddings): Embedding(50000, 768, padding_idx=0)\n",
      "      (position_embeddings): Embedding(512, 768)\n",
      "      (token_type_embeddings): Embedding(2, 768)\n",
      "      (LayerNorm): LayerNorm((768,), eps=1e-12, elementwise_affine=True)\n",
      "      (dropout): Dropout(p=0.1, inplace=False)\n",
      "    )\n",
      "    (encoder): BertEncoder(\n",
      "      (layer): ModuleList(\n",
      "        (0-11): 12 x BertLayer(\n",
      "          (attention): BertAttention(\n",
      "            (self): BertSelfAttention(\n",
      "              (query): Linear(in_features=768, out_features=768, bias=True)\n",
      "              (key): Linear(in_features=768, out_features=768, bias=True)\n",
      "              (value): Linear(in_features=768, out_features=768, bias=True)\n",
      "              (dropout): Dropout(p=0.1, inplace=False)\n",
      "            )\n",
      "            (output): BertSelfOutput(\n",
      "              (dense): Linear(in_features=768, out_features=768, bias=True)\n",
      "              (LayerNorm): LayerNorm((768,), eps=1e-12, elementwise_affine=True)\n",
      "              (dropout): Dropout(p=0.1, inplace=False)\n",
      "            )\n",
      "          )\n",
      "          (intermediate): BertIntermediate(\n",
      "            (dense): Linear(in_features=768, out_features=3072, bias=True)\n",
      "            (intermediate_act_fn): GELUActivation()\n",
      "          )\n",
      "          (output): BertOutput(\n",
      "            (dense): Linear(in_features=3072, out_features=768, bias=True)\n",
      "            (LayerNorm): LayerNorm((768,), eps=1e-12, elementwise_affine=True)\n",
      "            (dropout): Dropout(p=0.1, inplace=False)\n",
      "          )\n",
      "        )\n",
      "      )\n",
      "    )\n",
      "    (pooler): BertPooler(\n",
      "      (dense): Linear(in_features=768, out_features=768, bias=True)\n",
      "      (activation): Tanh()\n",
      "    )\n",
      "  )\n",
      "  (dropout): Dropout(p=0.1, inplace=False)\n",
      "  (classifier): Linear(in_features=768, out_features=3, bias=True)\n",
      ")\n"
     ]
    }
   ],
   "source": [
    "# Load the model\n",
    "bert_model = AutoModelForSequenceClassification.from_pretrained('indonesia-bert-sentiment-classification')\n",
    "\n",
    "# Print the model's structure\n",
    "print(bert_model)\n"
   ]
  }
 ],
 "metadata": {
  "kernelspec": {
   "display_name": "venv",
   "language": "python",
   "name": "python3"
  },
  "language_info": {
   "codemirror_mode": {
    "name": "ipython",
    "version": 3
   },
   "file_extension": ".py",
   "mimetype": "text/x-python",
   "name": "python",
   "nbconvert_exporter": "python",
   "pygments_lexer": "ipython3",
   "version": "3.10.11"
  }
 },
 "nbformat": 4,
 "nbformat_minor": 5
}
