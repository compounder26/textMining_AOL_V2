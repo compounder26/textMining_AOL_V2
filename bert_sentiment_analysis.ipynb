{
 "cells": [
  {
   "cell_type": "markdown",
   "metadata": {},
   "source": [
    "# Sentiment Analysis of Indonesian SMS Data (BERT & RoBERTa)"
   ]
  },
  {
   "cell_type": "markdown",
   "metadata": {},
   "source": [
    "## 1. Setup and Data Loading"
   ]
  },
  {
   "cell_type": "code",
   "execution_count": 1,
   "metadata": {},
   "outputs": [],
   "source": [
    "import pandas as pd\n",
    "import torch\n",
    "import numpy as np\n",
    "from sklearn.model_selection import train_test_split\n",
    "from sklearn.metrics import classification_report, accuracy_score\n",
    "import matplotlib.pyplot as plt\n",
    "from transformers import AutoTokenizer, AutoModelForSequenceClassification, pipeline\n",
    "from torch.utils.data import Dataset, DataLoader\n",
    "from tqdm.auto import tqdm\n",
    "from transformers import get_linear_schedule_with_warmup\n",
    "import torch.nn as nn"
   ]
  },
  {
   "cell_type": "code",
   "execution_count": 2,
   "metadata": {},
   "outputs": [
    {
     "name": "stdout",
     "output_type": "stream",
     "text": [
      "Python version: 3.10.11 (tags/v3.10.11:7d4cc5a, Apr  5 2023, 00:38:17) [MSC v.1929 64 bit (AMD64)]\n",
      "PyTorch version: 2.5.1+cu121\n",
      "CUDA available: True\n",
      "CUDA version built with: 12.1\n",
      "Number of GPUs: 1\n",
      "GPU 0 Name: NVIDIA GeForce RTX 4060 Laptop GPU\n"
     ]
    }
   ],
   "source": [
    "import sys\n",
    "print(f'Python version: {sys.version}')\n",
    "print(f'PyTorch version: {torch.__version__}')\n",
    "print(f'CUDA available: {torch.cuda.is_available()}')\n",
    "if torch.cuda.is_available():\n",
    "    print(f'CUDA version built with: {torch.version.cuda}')\n",
    "    print(f'Number of GPUs: {torch.cuda.device_count()}')\n",
    "    for i in range(torch.cuda.device_count()):\n",
    "        print(f'GPU {i} Name: {torch.cuda.get_device_name(i)}')\n",
    "else:\n",
    "    print('CUDA not available. PyTorch was not built with CUDA support or the CUDA driver is not compatible.')"
   ]
  },
  {
   "cell_type": "code",
   "execution_count": 3,
   "metadata": {},
   "outputs": [
    {
     "data": {
      "text/html": [
       "<div>\n",
       "<style scoped>\n",
       "    .dataframe tbody tr th:only-of-type {\n",
       "        vertical-align: middle;\n",
       "    }\n",
       "\n",
       "    .dataframe tbody tr th {\n",
       "        vertical-align: top;\n",
       "    }\n",
       "\n",
       "    .dataframe thead th {\n",
       "        text-align: right;\n",
       "    }\n",
       "</style>\n",
       "<table border=\"1\" class=\"dataframe\">\n",
       "  <thead>\n",
       "    <tr style=\"text-align: right;\">\n",
       "      <th></th>\n",
       "      <th>Tweet Date</th>\n",
       "      <th>Sentence</th>\n",
       "      <th>Quote Count</th>\n",
       "      <th>Reply Count</th>\n",
       "      <th>Retweet Count</th>\n",
       "      <th>Favorite Count</th>\n",
       "      <th>Sentiment</th>\n",
       "      <th>English Translation</th>\n",
       "    </tr>\n",
       "  </thead>\n",
       "  <tbody>\n",
       "    <tr>\n",
       "      <th>0</th>\n",
       "      <td>Thu Feb 29 11:21:27 +0000 2024</td>\n",
       "      <td>Gk muluk muluk, 100,000 lot saham BBCA aja</td>\n",
       "      <td>0</td>\n",
       "      <td>0</td>\n",
       "      <td>0</td>\n",
       "      <td>0</td>\n",
       "      <td>Positive</td>\n",
       "      <td>Not too ambitious, just 100,000 lots of BBCA s...</td>\n",
       "    </tr>\n",
       "    <tr>\n",
       "      <th>1</th>\n",
       "      <td>Thu Feb 29 10:11:05 +0000 2024</td>\n",
       "      <td>BCA Expoversary 2024 menawarkan promo suku bun...</td>\n",
       "      <td>0</td>\n",
       "      <td>0</td>\n",
       "      <td>0</td>\n",
       "      <td>0</td>\n",
       "      <td>Neutral</td>\n",
       "      <td>BCA Expoversary 2024 offers special interest r...</td>\n",
       "    </tr>\n",
       "    <tr>\n",
       "      <th>2</th>\n",
       "      <td>Thu Feb 29 10:06:04 +0000 2024</td>\n",
       "      <td>[USERNAME] saham bca nya menyusul ya 🙂</td>\n",
       "      <td>0</td>\n",
       "      <td>0</td>\n",
       "      <td>0</td>\n",
       "      <td>0</td>\n",
       "      <td>Positive</td>\n",
       "      <td>[USERNAME] BCA shares will follow 🙂</td>\n",
       "    </tr>\n",
       "    <tr>\n",
       "      <th>3</th>\n",
       "      <td>Thu Feb 29 07:42:09 +0000 2024</td>\n",
       "      <td>PT Bank BCA Syariah (BCA Syariah) turut memeri...</td>\n",
       "      <td>0</td>\n",
       "      <td>0</td>\n",
       "      <td>0</td>\n",
       "      <td>0</td>\n",
       "      <td>Neutral</td>\n",
       "      <td>PT Bank BCA Syariah (BCA Syariah) also enliven...</td>\n",
       "    </tr>\n",
       "    <tr>\n",
       "      <th>4</th>\n",
       "      <td>Thu Feb 29 06:06:17 +0000 2024</td>\n",
       "      <td>[USERNAME] Begitu byk saham kamu memilih saham...</td>\n",
       "      <td>0</td>\n",
       "      <td>0</td>\n",
       "      <td>0</td>\n",
       "      <td>1</td>\n",
       "      <td>Positive</td>\n",
       "      <td>[USERNAME] So many stocks you choose those sto...</td>\n",
       "    </tr>\n",
       "  </tbody>\n",
       "</table>\n",
       "</div>"
      ],
      "text/plain": [
       "                       Tweet Date  \\\n",
       "0  Thu Feb 29 11:21:27 +0000 2024   \n",
       "1  Thu Feb 29 10:11:05 +0000 2024   \n",
       "2  Thu Feb 29 10:06:04 +0000 2024   \n",
       "3  Thu Feb 29 07:42:09 +0000 2024   \n",
       "4  Thu Feb 29 06:06:17 +0000 2024   \n",
       "\n",
       "                                            Sentence  Quote Count  \\\n",
       "0         Gk muluk muluk, 100,000 lot saham BBCA aja            0   \n",
       "1  BCA Expoversary 2024 menawarkan promo suku bun...            0   \n",
       "2             [USERNAME] saham bca nya menyusul ya 🙂            0   \n",
       "3  PT Bank BCA Syariah (BCA Syariah) turut memeri...            0   \n",
       "4  [USERNAME] Begitu byk saham kamu memilih saham...            0   \n",
       "\n",
       "   Reply Count  Retweet Count  Favorite Count Sentiment  \\\n",
       "0            0              0               0  Positive   \n",
       "1            0              0               0   Neutral   \n",
       "2            0              0               0  Positive   \n",
       "3            0              0               0   Neutral   \n",
       "4            0              0               1  Positive   \n",
       "\n",
       "                                 English Translation  \n",
       "0  Not too ambitious, just 100,000 lots of BBCA s...  \n",
       "1  BCA Expoversary 2024 offers special interest r...  \n",
       "2                [USERNAME] BCA shares will follow 🙂  \n",
       "3  PT Bank BCA Syariah (BCA Syariah) also enliven...  \n",
       "4  [USERNAME] So many stocks you choose those sto...  "
      ]
     },
     "execution_count": 3,
     "metadata": {},
     "output_type": "execute_result"
    }
   ],
   "source": [
    "df = pd.read_csv('IDSMSA.csv')\n",
    "df.head()"
   ]
  },
  {
   "cell_type": "markdown",
   "metadata": {},
   "source": [
    "## 2. Data Preprocessing and Splitting"
   ]
  },
  {
   "cell_type": "code",
   "execution_count": 4,
   "metadata": {},
   "outputs": [
    {
     "name": "stdout",
     "output_type": "stream",
     "text": [
      "Train set size: 2630\n",
      "Test set size: 658\n"
     ]
    }
   ],
   "source": [
    "# Clean and map sentiment labels\n",
    "df.dropna(subset=['Sentiment'], inplace=True)\n",
    "df['Sentiment'] = df['Sentiment'].str.lower().str.strip()\n",
    "label_map = {'positive': 0, 'neutral': 1, 'negative': 2}\n",
    "df['label'] = df['Sentiment'].map(label_map)\n",
    "df.dropna(subset=['label'], inplace=True)\n",
    "df['label'] = df['label'].astype(int)\n",
    "\n",
    "# Split the data\n",
    "X_train, X_test, y_train, y_test = train_test_split(\n",
    "    df['Sentence'], \n",
    "    df['label'], \n",
    "    test_size=0.2, \n",
    "    random_state=42, \n",
    "    stratify=df['label']\n",
    ")\n",
    "\n",
    "print(f'Train set size: {len(X_train)}')\n",
    "print(f'Test set size: {len(X_test)}')"
   ]
  },
  {
   "cell_type": "markdown",
   "metadata": {},
   "source": [
    "### How the Data is Split\n",
    "\n",
    "We use the `train_test_split` function from the `scikit-learn` library to divide our dataset into a training set and a testing set. This is a crucial step in machine learning to ensure that we can evaluate our model on data it has never seen before.\n",
    "\n",
    "- `test_size=0.2`: This parameter specifies that we want to allocate 20% of the data to the test set. The remaining 80% will be used for training.\n",
    "- `random_state=42`: This ensures that the data is split in the same way every time the code is run. This is important for reproducibility, so we can get the same results again.\n",
    "- `stratify=df['label']`: This is a very important parameter for classification tasks. It ensures that the proportion of each sentiment label (positive, neutral, negative) is the same in both the training and testing sets as it is in the original dataset. This prevents a situation where, for example, the training set has very few negative examples, which would make it difficult for the model to learn how to identify them."
   ]
  },
  {
   "cell_type": "markdown",
   "metadata": {},
   "source": [
    "## 3. BERT & RoBERTa Evaluation"
   ]
  },
  {
   "cell_type": "markdown",
   "metadata": {},
   "source": [
    "### 3.1. Direct Evaluation (Without Fine-Tuning)"
   ]
  },
  {
   "cell_type": "code",
   "execution_count": 5,
   "metadata": {},
   "outputs": [
    {
     "data": {
      "application/vnd.jupyter.widget-view+json": {
       "model_id": "c2a8aba41bcc4efab5f4f0047de5fb2d",
       "version_major": 2,
       "version_minor": 0
      },
      "text/plain": [
       "  0%|          | 0/658 [00:00<?, ?it/s]"
      ]
     },
     "metadata": {},
     "output_type": "display_data"
    },
    {
     "name": "stdout",
     "output_type": "stream",
     "text": [
      "\n",
      "IndoBERT Classification Report:\n",
      "              precision    recall  f1-score   support\n",
      "\n",
      "    positive       0.68      0.08      0.14       354\n",
      "     neutral       0.25      0.93      0.39       147\n",
      "    negative       0.67      0.31      0.42       157\n",
      "\n",
      "    accuracy                           0.32       658\n",
      "   macro avg       0.53      0.44      0.32       658\n",
      "weighted avg       0.58      0.32      0.26       658\n",
      "\n"
     ]
    }
   ],
   "source": [
    "bert_model_name = 'indonesia-bert-sentiment-classification'\n",
    "bert_tokenizer = AutoTokenizer.from_pretrained(bert_model_name)\n",
    "bert_model = AutoModelForSequenceClassification.from_pretrained(bert_model_name)\n",
    "\n",
    "bert_pipeline = pipeline('sentiment-analysis', model=bert_model, tokenizer=bert_tokenizer)\n",
    "\n",
    "# The model labels are different, we need to map them\n",
    "bert_label_map = {'LABEL_0': 'positive', 'LABEL_1': 'neutral', 'LABEL_2': 'negative'}\n",
    "reverse_label_map = {v: k for k, v in label_map.items()}\n",
    "\n",
    "def predict_bert(text):\n",
    "    result = bert_pipeline(text)[0]\n",
    "    return label_map[bert_label_map[result['label']]]\n",
    "\n",
    "bert_preds = [predict_bert(text) for text in tqdm(X_test)]\n",
    "\n",
    "print(\"\\nIndoBERT Classification Report:\")\n",
    "print(classification_report(y_test, bert_preds, target_names=label_map.keys()))"
   ]
  },
  {
   "cell_type": "code",
   "execution_count": 6,
   "metadata": {},
   "outputs": [
    {
     "data": {
      "application/vnd.jupyter.widget-view+json": {
       "model_id": "d61a9500bcbb491c91e42f847105efe2",
       "version_major": 2,
       "version_minor": 0
      },
      "text/plain": [
       "  0%|          | 0/658 [00:00<?, ?it/s]"
      ]
     },
     "metadata": {},
     "output_type": "display_data"
    },
    {
     "name": "stdout",
     "output_type": "stream",
     "text": [
      "\n",
      "IndoRoBERTa Classification Report:\n",
      "              precision    recall  f1-score   support\n",
      "\n",
      "    positive       0.71      0.16      0.26       354\n",
      "     neutral       0.25      0.81      0.39       147\n",
      "    negative       0.53      0.38      0.44       157\n",
      "\n",
      "    accuracy                           0.35       658\n",
      "   macro avg       0.50      0.45      0.36       658\n",
      "weighted avg       0.57      0.35      0.33       658\n",
      "\n"
     ]
    }
   ],
   "source": [
    "roberta_model_name = 'indonesian-roberta-base-sentiment-classifier'\n",
    "roberta_tokenizer = AutoTokenizer.from_pretrained(roberta_model_name)\n",
    "roberta_model = AutoModelForSequenceClassification.from_pretrained(roberta_model_name)\n",
    "\n",
    "roberta_pipeline = pipeline('sentiment-analysis', model=roberta_model, tokenizer=roberta_tokenizer)\n",
    "\n",
    "def predict_roberta(text):\n",
    "    result = roberta_pipeline(text)[0]\n",
    "    # The labels from this model are already 'positive', 'neutral', 'negative'\n",
    "    return label_map[result['label']]\n",
    "\n",
    "roberta_preds = [predict_roberta(text) for text in tqdm(X_test)]\n",
    "\n",
    "print(\"\\nIndoRoBERTa Classification Report:\")\n",
    "print(classification_report(y_test, roberta_preds, target_names=label_map.keys()))"
   ]
  },
  {
   "cell_type": "markdown",
   "metadata": {},
   "source": [
    "### 3.2. Fine-Tuning and Evaluation"
   ]
  },
  {
   "cell_type": "code",
   "execution_count": 7,
   "metadata": {},
   "outputs": [],
   "source": [
    "class SentimentDataset(Dataset):\n",
    "    def __init__(self, texts, labels, tokenizer, max_len=128):\n",
    "        self.texts = texts\n",
    "        self.labels = labels\n",
    "        self.tokenizer = tokenizer\n",
    "        self.max_len = max_len\n",
    "\n",
    "    def __len__(self):\n",
    "        return len(self.texts)\n",
    "\n",
    "    def __getitem__(self, item):\n",
    "        text = str(self.texts.iloc[item])\n",
    "        label = self.labels.iloc[item]\n",
    "\n",
    "        encoding = self.tokenizer.encode_plus(\n",
    "            text,\n",
    "            add_special_tokens=True,\n",
    "            max_length=self.max_len,\n",
    "            return_token_type_ids=False,\n",
    "            padding='max_length',\n",
    "            return_attention_mask=True,\n",
    "            return_tensors='pt',\n",
    "            truncation=True\n",
    "        )\n",
    "\n",
    "        return {\n",
    "            'text': text,\n",
    "            'input_ids': encoding['input_ids'].flatten(),\n",
    "            'attention_mask': encoding['attention_mask'].flatten(),\n",
    "            'labels': torch.tensor(label, dtype=torch.long)\n",
    "        }"
   ]
  },
  {
   "cell_type": "code",
   "execution_count": 8,
   "metadata": {},
   "outputs": [],
   "source": [
    "def train_epoch(model, data_loader, optimizer, device, scheduler, n_examples):\n",
    "    model = model.train()\n",
    "    losses = []\n",
    "    correct_predictions = 0\n",
    "    \n",
    "    for d in tqdm(data_loader, desc=\"Training\"):\n",
    "        input_ids = d[\"input_ids\"].to(device)\n",
    "        attention_mask = d[\"attention_mask\"].to(device)\n",
    "        labels = d[\"labels\"].to(device)\n",
    "        \n",
    "        outputs = model(\n",
    "            input_ids=input_ids,\n",
    "            attention_mask=attention_mask,\n",
    "            labels=labels\n",
    "        )\n",
    "        \n",
    "        loss = outputs.loss\n",
    "        logits = outputs.logits\n",
    "        \n",
    "        _, preds = torch.max(logits, dim=1)\n",
    "        correct_predictions += torch.sum(preds == labels)\n",
    "        losses.append(loss.item())\n",
    "        \n",
    "        loss.backward()\n",
    "        torch.nn.utils.clip_grad_norm_(model.parameters(), max_norm=1.0)\n",
    "        optimizer.step()\n",
    "        scheduler.step()\n",
    "        optimizer.zero_grad()\n",
    "        \n",
    "    return correct_predictions.double() / n_examples, np.mean(losses)\n",
    "\n",
    "def eval_model(model, data_loader, device, n_examples):\n",
    "    model = model.eval()\n",
    "    losses = []\n",
    "    correct_predictions = 0\n",
    "    \n",
    "    with torch.no_grad():\n",
    "        for d in tqdm(data_loader, desc=\"Evaluating\"):\n",
    "            input_ids = d[\"input_ids\"].to(device)\n",
    "            attention_mask = d[\"attention_mask\"].to(device)\n",
    "            labels = d[\"labels\"].to(device)\n",
    "            \n",
    "            outputs = model(\n",
    "                input_ids=input_ids,\n",
    "                attention_mask=attention_mask,\n",
    "                labels=labels\n",
    "            )\n",
    "            \n",
    "            loss = outputs.loss\n",
    "            logits = outputs.logits\n",
    "            \n",
    "            _, preds = torch.max(logits, dim=1)\n",
    "            correct_predictions += torch.sum(preds == labels)\n",
    "            losses.append(loss.item())\n",
    "            \n",
    "    return correct_predictions.double() / n_examples, np.mean(losses)\n",
    "\n",
    "def get_predictions(model, data_loader, device):\n",
    "    model = model.eval()\n",
    "    predictions = []\n",
    "    real_values = []\n",
    "    with torch.no_grad():\n",
    "        for d in tqdm(data_loader, desc=\"Predicting\"):\n",
    "            input_ids = d[\"input_ids\"].to(device)\n",
    "            attention_mask = d[\"attention_mask\"].to(device)\n",
    "            labels = d[\"labels\"].to(device)\n",
    "            \n",
    "            outputs = model(\n",
    "                input_ids=input_ids,\n",
    "                attention_mask=attention_mask\n",
    "            )\n",
    "            \n",
    "            _, preds = torch.max(outputs.logits, dim=1)\n",
    "            predictions.extend(preds)\n",
    "            real_values.extend(labels)\n",
    "    predictions = torch.stack(predictions).cpu()\n",
    "    real_values = torch.stack(real_values).cpu()\n",
    "    return predictions, real_values"
   ]
  },
  {
   "cell_type": "code",
   "execution_count": 9,
   "metadata": {},
   "outputs": [
    {
     "name": "stdout",
     "output_type": "stream",
     "text": [
      "--- Using device: cuda:0 ---\n",
      "Epoch 1/10\n"
     ]
    },
    {
     "data": {
      "application/vnd.jupyter.widget-view+json": {
       "model_id": "11baef1b1d5041ba911efde7f36d613f",
       "version_major": 2,
       "version_minor": 0
      },
      "text/plain": [
       "Training:   0%|          | 0/165 [00:00<?, ?it/s]"
      ]
     },
     "metadata": {},
     "output_type": "display_data"
    },
    {
     "name": "stdout",
     "output_type": "stream",
     "text": [
      "Train loss 0.9496148521249944 accuracy 0.6673003802281369\n"
     ]
    },
    {
     "data": {
      "application/vnd.jupyter.widget-view+json": {
       "model_id": "43607053b6744e32b0031a44daff10e3",
       "version_major": 2,
       "version_minor": 0
      },
      "text/plain": [
       "Evaluating:   0%|          | 0/42 [00:00<?, ?it/s]"
      ]
     },
     "metadata": {},
     "output_type": "display_data"
    },
    {
     "name": "stdout",
     "output_type": "stream",
     "text": [
      "Val loss 0.5751138141467458 accuracy 0.7629179331306991\n",
      "Epoch 2/10\n"
     ]
    },
    {
     "data": {
      "application/vnd.jupyter.widget-view+json": {
       "model_id": "0589d1a8e8924111a8f2ac8bf11acbb4",
       "version_major": 2,
       "version_minor": 0
      },
      "text/plain": [
       "Training:   0%|          | 0/165 [00:00<?, ?it/s]"
      ]
     },
     "metadata": {},
     "output_type": "display_data"
    },
    {
     "name": "stdout",
     "output_type": "stream",
     "text": [
      "Train loss 0.39707951015143683 accuracy 0.8509505703422052\n"
     ]
    },
    {
     "data": {
      "application/vnd.jupyter.widget-view+json": {
       "model_id": "745cd95852c049adb9d6e3284a00ffc1",
       "version_major": 2,
       "version_minor": 0
      },
      "text/plain": [
       "Evaluating:   0%|          | 0/42 [00:00<?, ?it/s]"
      ]
     },
     "metadata": {},
     "output_type": "display_data"
    },
    {
     "name": "stdout",
     "output_type": "stream",
     "text": [
      "Val loss 0.44914829917252064 accuracy 0.8282674772036475\n",
      "Epoch 3/10\n"
     ]
    },
    {
     "data": {
      "application/vnd.jupyter.widget-view+json": {
       "model_id": "a84e985ab796427293adf69467fd0414",
       "version_major": 2,
       "version_minor": 0
      },
      "text/plain": [
       "Training:   0%|          | 0/165 [00:00<?, ?it/s]"
      ]
     },
     "metadata": {},
     "output_type": "display_data"
    },
    {
     "name": "stdout",
     "output_type": "stream",
     "text": [
      "Train loss 0.18602567774554093 accuracy 0.9368821292775665\n"
     ]
    },
    {
     "data": {
      "application/vnd.jupyter.widget-view+json": {
       "model_id": "2ec6d503051345d5818fef492388d1be",
       "version_major": 2,
       "version_minor": 0
      },
      "text/plain": [
       "Evaluating:   0%|          | 0/42 [00:00<?, ?it/s]"
      ]
     },
     "metadata": {},
     "output_type": "display_data"
    },
    {
     "name": "stdout",
     "output_type": "stream",
     "text": [
      "Val loss 0.6992615107225165 accuracy 0.8039513677811551\n",
      "Epoch 4/10\n"
     ]
    },
    {
     "data": {
      "application/vnd.jupyter.widget-view+json": {
       "model_id": "55b9670a3ff848b8b3245699592b50e3",
       "version_major": 2,
       "version_minor": 0
      },
      "text/plain": [
       "Training:   0%|          | 0/165 [00:00<?, ?it/s]"
      ]
     },
     "metadata": {},
     "output_type": "display_data"
    },
    {
     "name": "stdout",
     "output_type": "stream",
     "text": [
      "Train loss 0.09159863230800538 accuracy 0.973764258555133\n"
     ]
    },
    {
     "data": {
      "application/vnd.jupyter.widget-view+json": {
       "model_id": "f799380a94644b468d570de9089b6c91",
       "version_major": 2,
       "version_minor": 0
      },
      "text/plain": [
       "Evaluating:   0%|          | 0/42 [00:00<?, ?it/s]"
      ]
     },
     "metadata": {},
     "output_type": "display_data"
    },
    {
     "name": "stdout",
     "output_type": "stream",
     "text": [
      "Val loss 0.9019216231924171 accuracy 0.8252279635258358\n",
      "Early stopping triggered.\n"
     ]
    },
    {
     "name": "stderr",
     "output_type": "stream",
     "text": [
      "C:\\Users\\Tertius\\AppData\\Local\\Temp\\ipykernel_24404\\3070140687.py:58: FutureWarning: You are using `torch.load` with `weights_only=False` (the current default value), which uses the default pickle module implicitly. It is possible to construct malicious pickle data which will execute arbitrary code during unpickling (See https://github.com/pytorch/pytorch/blob/main/SECURITY.md#untrusted-models for more details). In a future release, the default value for `weights_only` will be flipped to `True`. This limits the functions that could be executed during unpickling. Arbitrary objects will no longer be allowed to be loaded via this mode unless they are explicitly allowlisted by the user via `torch.serialization.add_safe_globals`. We recommend you start setting `weights_only=True` for any use case where you don't have full control of the loaded file. Please open an issue on GitHub for any issues related to this experimental feature.\n",
      "  bert_ft_model.load_state_dict(torch.load('bert_ft_model_best.bin'))\n"
     ]
    },
    {
     "data": {
      "application/vnd.jupyter.widget-view+json": {
       "model_id": "84633e89ca74434b9014ff0e51002f80",
       "version_major": 2,
       "version_minor": 0
      },
      "text/plain": [
       "Predicting:   0%|          | 0/42 [00:00<?, ?it/s]"
      ]
     },
     "metadata": {},
     "output_type": "display_data"
    },
    {
     "name": "stdout",
     "output_type": "stream",
     "text": [
      "\n",
      "Fine-Tuned IndoBERT Classification Report:\n",
      "              precision    recall  f1-score   support\n",
      "\n",
      "    positive       0.86      0.87      0.87       354\n",
      "     neutral       0.79      0.76      0.77       147\n",
      "    negative       0.78      0.81      0.80       157\n",
      "\n",
      "    accuracy                           0.83       658\n",
      "   macro avg       0.81      0.81      0.81       658\n",
      "weighted avg       0.83      0.83      0.83       658\n",
      "\n"
     ]
    }
   ],
   "source": [
    "device = torch.device(\"cuda:0\" if torch.cuda.is_available() else \"cpu\")\n",
    "print(f'--- Using device: {device} ---')\n",
    "EPOCHS = 10\n",
    "BATCH_SIZE = 16\n",
    "USE_EARLY_STOPPING = True # Set to False to train for the full number of epochs\n",
    "\n",
    "bert_ft_model = AutoModelForSequenceClassification.from_pretrained(bert_model_name)\n",
    "bert_ft_model = bert_ft_model.to(device)\n",
    "\n",
    "train_dataset = SentimentDataset(X_train, y_train, bert_tokenizer)\n",
    "train_loader = DataLoader(train_dataset, batch_size=BATCH_SIZE, shuffle=True)\n",
    "\n",
    "test_dataset = SentimentDataset(X_test, y_test, bert_tokenizer)\n",
    "test_loader = DataLoader(test_dataset, batch_size=BATCH_SIZE)\n",
    "\n",
    "optimizer = torch.optim.AdamW(bert_ft_model.parameters(), lr=2e-5)\n",
    "total_steps = len(train_loader) * EPOCHS\n",
    "scheduler = get_linear_schedule_with_warmup(\n",
    "    optimizer,\n",
    "    num_warmup_steps=int(total_steps * 0.1),\n",
    "    num_training_steps=total_steps\n",
    ")\n",
    "\n",
    "history = {'train_acc': [], 'train_loss': [], 'val_acc': [], 'val_loss': []}\n",
    "best_val_loss = float('inf')\n",
    "patience_counter = 0\n",
    "patience = 2\n",
    "\n",
    "for epoch in range(EPOCHS):\n",
    "    print(f'Epoch {epoch + 1}/{EPOCHS}')\n",
    "    train_acc, train_loss = train_epoch(\n",
    "        bert_ft_model, train_loader, optimizer, device, scheduler, len(X_train)\n",
    "    )\n",
    "    print(f'Train loss {train_loss} accuracy {train_acc}')\n",
    "    \n",
    "    val_acc, val_loss = eval_model(bert_ft_model, test_loader, device, len(X_test))\n",
    "    print(f'Val loss {val_loss} accuracy {val_acc}')\n",
    "    \n",
    "    history['train_acc'].append(train_acc)\n",
    "    history['train_loss'].append(train_loss)\n",
    "    history['val_acc'].append(val_acc)\n",
    "    history['val_loss'].append(val_loss)\n",
    "    \n",
    "    if USE_EARLY_STOPPING:\n",
    "        if val_loss < best_val_loss:\n",
    "            best_val_loss = val_loss\n",
    "            patience_counter = 0\n",
    "            torch.save(bert_ft_model.state_dict(), 'bert_ft_model_best.bin')\n",
    "        else:\n",
    "            patience_counter += 1\n",
    "            if patience_counter >= patience:\n",
    "                print('Early stopping triggered.')\n",
    "                break\n",
    "    else:\n",
    "        # If not using early stopping, save the model at every epoch\n",
    "        torch.save(bert_ft_model.state_dict(), 'bert_ft_model_best.bin')\n",
    "\n",
    "bert_ft_model.load_state_dict(torch.load('bert_ft_model_best.bin'))\n",
    "y_pred, y_true = get_predictions(bert_ft_model, test_loader, device)\n",
    "print(\"\\nFine-Tuned IndoBERT Classification Report:\")\n",
    "print(classification_report(y_true, y_pred, target_names=label_map.keys()))"
   ]
  },
  {
   "cell_type": "markdown",
   "metadata": {},
   "source": [
    "### Early Stopping\n",
    "\n",
    "The code includes a technique called **Early Stopping**. This is what causes the training to sometimes stop before reaching the maximum number of epochs (`EPOCHS`).\n",
    "\n",
    "**Why is it used?**\n",
    "The goal of training is to help the model generalize well to new, unseen data. Sometimes, as training progresses, a model can start to *overfit*. This means it gets very good at predicting the training data but performs worse on the test data because it has essentially memorized the training examples instead of learning the underlying patterns.\n",
    "\n",
    "**How it works in this code:**\n",
    "1. We monitor the validation loss (`val_loss`) after each epoch.\n",
    "2. We keep track of the `best_val_loss` seen so far.\n",
    "3. If the `val_loss` for the current epoch is *not* better than the `best_val_loss`, we increment a `patience_counter`.\n",
    "4. If the `val_loss` fails to improve for a specified number of epochs (defined by `patience = 2`), we assume the model is no longer improving and we stop the training early.\n",
    "5. The best version of the model (the one with the lowest validation loss) is saved and used for the final evaluation.\n",
    "\n",
    "You can disable this behavior by setting `USE_EARLY_STOPPING = False` in the code cell above. When it is `False`, the model will train for all 10 epochs."
   ]
  },
  {
   "cell_type": "code",
   "execution_count": 10,
   "metadata": {},
   "outputs": [
    {
     "data": {
      "text/plain": [
       "(0.0, 1.0)"
      ]
     },
     "execution_count": 10,
     "metadata": {},
     "output_type": "execute_result"
    },
    {
     "data": {
      "image/png": "[encoded data removed]",
      "text/plain": [
       "<Figure size 640x480 with 1 Axes>"
      ]
     },
     "metadata": {},
     "output_type": "display_data"
    }
   ],
   "source": [
    "# Use a list comprehension to move each tensor in the list to the CPU\n",
    "train_acc_cpu = [t.cpu() for t in history['train_acc']]\n",
    "val_acc_cpu = [t.cpu() for t in history['val_acc']]\n",
    "\n",
    "plt.plot(train_acc_cpu, label='train accuracy')\n",
    "plt.plot(val_acc_cpu, label='validation accuracy')\n",
    "\n",
    "# The rest of your plotting code remains the same\n",
    "plt.title('Training history')\n",
    "plt.ylabel('Accuracy')\n",
    "plt.xlabel('Epoch')\n",
    "plt.legend()\n",
    "plt.ylim([0, 1])"
   ]
  },
  {
   "cell_type": "code",
   "execution_count": 11,
   "metadata": {},
   "outputs": [
    {
     "name": "stdout",
     "output_type": "stream",
     "text": [
      "Epoch 1/10\n"
     ]
    },
    {
     "data": {
      "application/vnd.jupyter.widget-view+json": {
       "model_id": "b16025de7c194552bb2449549f60f7f6",
       "version_major": 2,
       "version_minor": 0
      },
      "text/plain": [
       "Training:   0%|          | 0/165 [00:00<?, ?it/s]"
      ]
     },
     "metadata": {},
     "output_type": "display_data"
    },
    {
     "name": "stdout",
     "output_type": "stream",
     "text": [
      "Train loss 1.0215510906595173 accuracy 0.6608365019011406\n"
     ]
    },
    {
     "data": {
      "application/vnd.jupyter.widget-view+json": {
       "model_id": "9ddc419b0591443fa280240eb5ffffdd",
       "version_major": 2,
       "version_minor": 0
      },
      "text/plain": [
       "Evaluating:   0%|          | 0/42 [00:00<?, ?it/s]"
      ]
     },
     "metadata": {},
     "output_type": "display_data"
    },
    {
     "name": "stdout",
     "output_type": "stream",
     "text": [
      "Val loss 0.5327637351694561 accuracy 0.776595744680851\n",
      "Epoch 2/10\n"
     ]
    },
    {
     "data": {
      "application/vnd.jupyter.widget-view+json": {
       "model_id": "fdf6518133d44a2eb0657734d79e6fad",
       "version_major": 2,
       "version_minor": 0
      },
      "text/plain": [
       "Training:   0%|          | 0/165 [00:00<?, ?it/s]"
      ]
     },
     "metadata": {},
     "output_type": "display_data"
    },
    {
     "name": "stdout",
     "output_type": "stream",
     "text": [
      "Train loss 0.43376943035559223 accuracy 0.8376425855513308\n"
     ]
    },
    {
     "data": {
      "application/vnd.jupyter.widget-view+json": {
       "model_id": "a159a136b0884b59b387bc63ea212cef",
       "version_major": 2,
       "version_minor": 0
      },
      "text/plain": [
       "Evaluating:   0%|          | 0/42 [00:00<?, ?it/s]"
      ]
     },
     "metadata": {},
     "output_type": "display_data"
    },
    {
     "name": "stdout",
     "output_type": "stream",
     "text": [
      "Val loss 0.47350673129161197 accuracy 0.8085106382978723\n",
      "Epoch 3/10\n"
     ]
    },
    {
     "data": {
      "application/vnd.jupyter.widget-view+json": {
       "model_id": "db15b148f33c4436ba468d42963d8e0a",
       "version_major": 2,
       "version_minor": 0
      },
      "text/plain": [
       "Training:   0%|          | 0/165 [00:00<?, ?it/s]"
      ]
     },
     "metadata": {},
     "output_type": "display_data"
    },
    {
     "name": "stdout",
     "output_type": "stream",
     "text": [
      "Train loss 0.2328894628155412 accuracy 0.9220532319391634\n"
     ]
    },
    {
     "data": {
      "application/vnd.jupyter.widget-view+json": {
       "model_id": "0eb37ce737ba47208887451260692ea9",
       "version_major": 2,
       "version_minor": 0
      },
      "text/plain": [
       "Evaluating:   0%|          | 0/42 [00:00<?, ?it/s]"
      ]
     },
     "metadata": {},
     "output_type": "display_data"
    },
    {
     "name": "stdout",
     "output_type": "stream",
     "text": [
      "Val loss 0.673808087905248 accuracy 0.8054711246200608\n",
      "Epoch 4/10\n"
     ]
    },
    {
     "data": {
      "application/vnd.jupyter.widget-view+json": {
       "model_id": "49f6927cfa8f4a82b9d0ff2acf0d056b",
       "version_major": 2,
       "version_minor": 0
      },
      "text/plain": [
       "Training:   0%|          | 0/165 [00:00<?, ?it/s]"
      ]
     },
     "metadata": {},
     "output_type": "display_data"
    },
    {
     "name": "stdout",
     "output_type": "stream",
     "text": [
      "Train loss 0.1408843213388922 accuracy 0.9574144486692014\n"
     ]
    },
    {
     "data": {
      "application/vnd.jupyter.widget-view+json": {
       "model_id": "509fb7a6f2f941d3a0aa7e57b704f6fc",
       "version_major": 2,
       "version_minor": 0
      },
      "text/plain": [
       "Evaluating:   0%|          | 0/42 [00:00<?, ?it/s]"
      ]
     },
     "metadata": {},
     "output_type": "display_data"
    },
    {
     "name": "stdout",
     "output_type": "stream",
     "text": [
      "Val loss 0.7085991038807801 accuracy 0.8297872340425532\n",
      "Early stopping triggered.\n"
     ]
    },
    {
     "name": "stderr",
     "output_type": "stream",
     "text": [
      "C:\\Users\\Tertius\\AppData\\Local\\Temp\\ipykernel_24404\\1382131119.py:51: FutureWarning: You are using `torch.load` with `weights_only=False` (the current default value), which uses the default pickle module implicitly. It is possible to construct malicious pickle data which will execute arbitrary code during unpickling (See https://github.com/pytorch/pytorch/blob/main/SECURITY.md#untrusted-models for more details). In a future release, the default value for `weights_only` will be flipped to `True`. This limits the functions that could be executed during unpickling. Arbitrary objects will no longer be allowed to be loaded via this mode unless they are explicitly allowlisted by the user via `torch.serialization.add_safe_globals`. We recommend you start setting `weights_only=True` for any use case where you don't have full control of the loaded file. Please open an issue on GitHub for any issues related to this experimental feature.\n",
      "  roberta_ft_model.load_state_dict(torch.load('roberta_ft_model_best.bin'))\n"
     ]
    },
    {
     "data": {
      "application/vnd.jupyter.widget-view+json": {
       "model_id": "b146a7ba7ef64a95bffbabf88abf7f6e",
       "version_major": 2,
       "version_minor": 0
      },
      "text/plain": [
       "Predicting:   0%|          | 0/42 [00:00<?, ?it/s]"
      ]
     },
     "metadata": {},
     "output_type": "display_data"
    },
    {
     "name": "stdout",
     "output_type": "stream",
     "text": [
      "\n",
      "Fine-Tuned IndoRoBERTa Classification Report:\n",
      "              precision    recall  f1-score   support\n",
      "\n",
      "    positive       0.85      0.87      0.86       354\n",
      "     neutral       0.76      0.71      0.73       147\n",
      "    negative       0.75      0.76      0.76       157\n",
      "\n",
      "    accuracy                           0.81       658\n",
      "   macro avg       0.79      0.78      0.78       658\n",
      "weighted avg       0.81      0.81      0.81       658\n",
      "\n"
     ]
    }
   ],
   "source": [
    "roberta_ft_model = AutoModelForSequenceClassification.from_pretrained(roberta_model_name)\n",
    "roberta_ft_model = roberta_ft_model.to(device)\n",
    "\n",
    "train_dataset_roberta = SentimentDataset(X_train, y_train, roberta_tokenizer)\n",
    "train_loader_roberta = DataLoader(train_dataset_roberta, batch_size=BATCH_SIZE, shuffle=True)\n",
    "\n",
    "test_dataset_roberta = SentimentDataset(X_test, y_test, roberta_tokenizer)\n",
    "test_loader_roberta = DataLoader(test_dataset_roberta, batch_size=BATCH_SIZE)\n",
    "\n",
    "optimizer_roberta = torch.optim.AdamW(roberta_ft_model.parameters(), lr=2e-5)\n",
    "total_steps_roberta = len(train_loader_roberta) * EPOCHS\n",
    "scheduler_roberta = get_linear_schedule_with_warmup(\n",
    "    optimizer_roberta,\n",
    "    num_warmup_steps=int(total_steps_roberta * 0.1),\n",
    "    num_training_steps=total_steps_roberta\n",
    ")\n",
    "\n",
    "history_roberta = {'train_acc': [], 'train_loss': [], 'val_acc': [], 'val_loss': []}\n",
    "best_val_loss_roberta = float('inf')\n",
    "patience_counter_roberta = 0\n",
    "patience = 2\n",
    "\n",
    "for epoch in range(EPOCHS):\n",
    "    print(f'Epoch {epoch + 1}/{EPOCHS}')\n",
    "    train_acc, train_loss = train_epoch(\n",
    "        roberta_ft_model, train_loader_roberta, optimizer_roberta, device, scheduler_roberta, len(X_train)\n",
    "    )\n",
    "    print(f'Train loss {train_loss} accuracy {train_acc}')\n",
    "    \n",
    "    val_acc, val_loss = eval_model(roberta_ft_model, test_loader_roberta, device, len(X_test))\n",
    "    print(f'Val loss {val_loss} accuracy {val_acc}')\n",
    "    \n",
    "    history_roberta['train_acc'].append(train_acc)\n",
    "    history_roberta['train_loss'].append(train_loss)\n",
    "    history_roberta['val_acc'].append(val_acc)\n",
    "    history_roberta['val_loss'].append(val_loss)\n",
    "    \n",
    "    if USE_EARLY_STOPPING:\n",
    "        if val_loss < best_val_loss_roberta:\n",
    "            best_val_loss_roberta = val_loss\n",
    "            patience_counter_roberta = 0\n",
    "            torch.save(roberta_ft_model.state_dict(), 'roberta_ft_model_best.bin')\n",
    "        else:\n",
    "            patience_counter_roberta += 1\n",
    "            if patience_counter_roberta >= patience:\n",
    "                print('Early stopping triggered.')\n",
    "                break\n",
    "    else:\n",
    "        torch.save(roberta_ft_model.state_dict(), 'roberta_ft_model_best.bin')\n",
    "\n",
    "roberta_ft_model.load_state_dict(torch.load('roberta_ft_model_best.bin'))\n",
    "y_pred_roberta, y_true_roberta = get_predictions(roberta_ft_model, test_loader_roberta, device)\n",
    "print(\"\\nFine-Tuned IndoRoBERTa Classification Report:\")\n",
    "print(classification_report(y_true_roberta, y_pred_roberta, target_names=label_map.keys()))"
   ]
  },
  {
   "cell_type": "code",
   "execution_count": 12,
   "metadata": {},
   "outputs": [
    {
     "data": {
      "text/plain": [
       "(0.0, 1.0)"
      ]
     },
     "execution_count": 12,
     "metadata": {},
     "output_type": "execute_result"
    },
    {
     "data": {
      "image/png": "[encoded data removed]",
      "text/plain": [
       "<Figure size 640x480 with 1 Axes>"
      ]
     },
     "metadata": {},
     "output_type": "display_data"
    }
   ],
   "source": [
    "# Use a list comprehension to move each tensor in the list to the CPU\n",
    "train_acc_cpu = [t.cpu() for t in history_roberta['train_acc']]\n",
    "val_acc_cpu = [t.cpu() for t in history_roberta['val_acc']]\n",
    "\n",
    "plt.plot(train_acc_cpu, label='train accuracy')\n",
    "plt.plot(val_acc_cpu, label='validation accuracy')\n",
    "\n",
    "# The rest of your plotting code remains the same\n",
    "plt.title('Training history')\n",
    "plt.ylabel('Accuracy')\n",
    "plt.xlabel('Epoch')\n",
    "plt.legend()\n",
    "plt.ylim([0, 1])"
   ]
  },
  {
   "cell_type": "markdown",
   "metadata": {},
   "source": [
    "## 4. Conclusion"
   ]
  },
  {
   "cell_type": "code",
   "execution_count": 13,
   "metadata": {},
   "outputs": [
    {
     "name": "stdout",
     "output_type": "stream",
     "text": [
      "                      Model  Accuracy\n",
      "2     IndoBERT (Fine-Tuned)  0.828267\n",
      "3  IndoRoBERTa (Fine-Tuned)  0.808511\n",
      "1               IndoRoBERTa  0.354103\n",
      "0                  IndoBERT  0.322188\n",
      "\n",
      "## Conclusion\n",
      "\n",
      "The table above summarizes the accuracy of the four different approaches. Based on the results, we can determine which model and approach works best for this dataset.\n",
      "\n",
      "As a reminder, the classification reports are generated using the **test data**. This provides an unbiased evaluation of how the models perform on new, unseen data, which is the standard practice for assessing a model's true performance.\n"
     ]
    }
   ],
   "source": [
    "# Get accuracy scores\n",
    "bert_accuracy = accuracy_score(y_test, bert_preds)\n",
    "roberta_accuracy = accuracy_score(y_test, roberta_preds)\n",
    "bert_ft_accuracy = accuracy_score(y_true, y_pred)\n",
    "roberta_ft_accuracy = accuracy_score(y_true_roberta, y_pred_roberta)\n",
    "\n",
    "conclusion_data = {\n",
    "    'Model': ['IndoBERT', 'IndoRoBERTa', 'IndoBERT (Fine-Tuned)', 'IndoRoBERTa (Fine-Tuned)'],\n",
    "    'Accuracy': [bert_accuracy, roberta_accuracy, bert_ft_accuracy, roberta_ft_accuracy]\n",
    "}\n",
    "\n",
    "conclusion_df = pd.DataFrame(conclusion_data)\n",
    "print(conclusion_df.sort_values(by='Accuracy', ascending=False))\n",
    "\n",
    "print(\"\\n## Conclusion\\n\")\n",
    "print(\"The table above summarizes the accuracy of the four different approaches. Based on the results, we can determine which model and approach works best for this dataset.\")\n",
    "print(\"\\nAs a reminder, the classification reports are generated using the **test data**. This provides an unbiased evaluation of how the models perform on new, unseen data, which is the standard practice for assessing a model's true performance.\")"
   ]
  }
 ],
 "metadata": {
  "kernelspec": {
   "display_name": "venv",
   "language": "python",
   "name": "python3"
  },
  "language_info": {
   "codemirror_mode": {
    "name": "ipython",
    "version": 3
   },
   "file_extension": ".py",
   "mimetype": "text/x-python",
   "name": "python",
   "nbconvert_exporter": "python",
   "pygments_lexer": "ipython3",
   "version": "3.10.11"
  }
 },
 "nbformat": 4,
 "nbformat_minor": 4
}
